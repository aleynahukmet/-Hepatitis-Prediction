{
  "nbformat": 4,
  "nbformat_minor": 0,
  "metadata": {
    "colab": {
      "name": " Hepatitis Prediction",
      "provenance": [],
      "collapsed_sections": []
    },
    "kernelspec": {
      "name": "python3",
      "display_name": "Python 3"
    },
    "language_info": {
      "name": "python"
    }
  },
  "cells": [
    {
      "cell_type": "code",
      "metadata": {
        "id": "K6NeF6IiWv2x"
      },
      "source": [
        "import numpy as np\n",
        "import pandas as pd\n",
        "import matplotlib.pyplot as plt\n",
        "import seaborn as sns\n",
        "import warnings\n",
        "warnings.simplefilter(\"ignore\")"
      ],
      "execution_count": 2,
      "outputs": []
    },
    {
      "cell_type": "code",
      "metadata": {
        "id": "8Kd6Z2C5W9eC"
      },
      "source": [
        "df = pd.read_csv('/content/HepatitisCdata.csv')"
      ],
      "execution_count": 3,
      "outputs": []
    },
    {
      "cell_type": "code",
      "metadata": {
        "colab": {
          "base_uri": "https://localhost:8080/",
          "height": 357
        },
        "id": "tP2ngnhhXBaz",
        "outputId": "f30dca5b-29eb-4cd3-e6a5-2fbfdae0b8bf"
      },
      "source": [
        "df.head(10)"
      ],
      "execution_count": 4,
      "outputs": [
        {
          "output_type": "execute_result",
          "data": {
            "text/html": [
              "<div>\n",
              "<style scoped>\n",
              "    .dataframe tbody tr th:only-of-type {\n",
              "        vertical-align: middle;\n",
              "    }\n",
              "\n",
              "    .dataframe tbody tr th {\n",
              "        vertical-align: top;\n",
              "    }\n",
              "\n",
              "    .dataframe thead th {\n",
              "        text-align: right;\n",
              "    }\n",
              "</style>\n",
              "<table border=\"1\" class=\"dataframe\">\n",
              "  <thead>\n",
              "    <tr style=\"text-align: right;\">\n",
              "      <th></th>\n",
              "      <th>Unnamed: 0</th>\n",
              "      <th>Category</th>\n",
              "      <th>Age</th>\n",
              "      <th>Sex</th>\n",
              "      <th>ALB</th>\n",
              "      <th>ALP</th>\n",
              "      <th>ALT</th>\n",
              "      <th>AST</th>\n",
              "      <th>BIL</th>\n",
              "      <th>CHE</th>\n",
              "      <th>CHOL</th>\n",
              "      <th>CREA</th>\n",
              "      <th>GGT</th>\n",
              "      <th>PROT</th>\n",
              "    </tr>\n",
              "  </thead>\n",
              "  <tbody>\n",
              "    <tr>\n",
              "      <th>0</th>\n",
              "      <td>1</td>\n",
              "      <td>0=Blood Donor</td>\n",
              "      <td>32</td>\n",
              "      <td>m</td>\n",
              "      <td>38.5</td>\n",
              "      <td>52.5</td>\n",
              "      <td>7.7</td>\n",
              "      <td>22.1</td>\n",
              "      <td>7.5</td>\n",
              "      <td>6.93</td>\n",
              "      <td>3.23</td>\n",
              "      <td>106.0</td>\n",
              "      <td>12.1</td>\n",
              "      <td>69.0</td>\n",
              "    </tr>\n",
              "    <tr>\n",
              "      <th>1</th>\n",
              "      <td>2</td>\n",
              "      <td>0=Blood Donor</td>\n",
              "      <td>32</td>\n",
              "      <td>m</td>\n",
              "      <td>38.5</td>\n",
              "      <td>70.3</td>\n",
              "      <td>18.0</td>\n",
              "      <td>24.7</td>\n",
              "      <td>3.9</td>\n",
              "      <td>11.17</td>\n",
              "      <td>4.80</td>\n",
              "      <td>74.0</td>\n",
              "      <td>15.6</td>\n",
              "      <td>76.5</td>\n",
              "    </tr>\n",
              "    <tr>\n",
              "      <th>2</th>\n",
              "      <td>3</td>\n",
              "      <td>0=Blood Donor</td>\n",
              "      <td>32</td>\n",
              "      <td>m</td>\n",
              "      <td>46.9</td>\n",
              "      <td>74.7</td>\n",
              "      <td>36.2</td>\n",
              "      <td>52.6</td>\n",
              "      <td>6.1</td>\n",
              "      <td>8.84</td>\n",
              "      <td>5.20</td>\n",
              "      <td>86.0</td>\n",
              "      <td>33.2</td>\n",
              "      <td>79.3</td>\n",
              "    </tr>\n",
              "    <tr>\n",
              "      <th>3</th>\n",
              "      <td>4</td>\n",
              "      <td>0=Blood Donor</td>\n",
              "      <td>32</td>\n",
              "      <td>m</td>\n",
              "      <td>43.2</td>\n",
              "      <td>52.0</td>\n",
              "      <td>30.6</td>\n",
              "      <td>22.6</td>\n",
              "      <td>18.9</td>\n",
              "      <td>7.33</td>\n",
              "      <td>4.74</td>\n",
              "      <td>80.0</td>\n",
              "      <td>33.8</td>\n",
              "      <td>75.7</td>\n",
              "    </tr>\n",
              "    <tr>\n",
              "      <th>4</th>\n",
              "      <td>5</td>\n",
              "      <td>0=Blood Donor</td>\n",
              "      <td>32</td>\n",
              "      <td>m</td>\n",
              "      <td>39.2</td>\n",
              "      <td>74.1</td>\n",
              "      <td>32.6</td>\n",
              "      <td>24.8</td>\n",
              "      <td>9.6</td>\n",
              "      <td>9.15</td>\n",
              "      <td>4.32</td>\n",
              "      <td>76.0</td>\n",
              "      <td>29.9</td>\n",
              "      <td>68.7</td>\n",
              "    </tr>\n",
              "    <tr>\n",
              "      <th>5</th>\n",
              "      <td>6</td>\n",
              "      <td>0=Blood Donor</td>\n",
              "      <td>32</td>\n",
              "      <td>m</td>\n",
              "      <td>41.6</td>\n",
              "      <td>43.3</td>\n",
              "      <td>18.5</td>\n",
              "      <td>19.7</td>\n",
              "      <td>12.3</td>\n",
              "      <td>9.92</td>\n",
              "      <td>6.05</td>\n",
              "      <td>111.0</td>\n",
              "      <td>91.0</td>\n",
              "      <td>74.0</td>\n",
              "    </tr>\n",
              "    <tr>\n",
              "      <th>6</th>\n",
              "      <td>7</td>\n",
              "      <td>0=Blood Donor</td>\n",
              "      <td>32</td>\n",
              "      <td>m</td>\n",
              "      <td>46.3</td>\n",
              "      <td>41.3</td>\n",
              "      <td>17.5</td>\n",
              "      <td>17.8</td>\n",
              "      <td>8.5</td>\n",
              "      <td>7.01</td>\n",
              "      <td>4.79</td>\n",
              "      <td>70.0</td>\n",
              "      <td>16.9</td>\n",
              "      <td>74.5</td>\n",
              "    </tr>\n",
              "    <tr>\n",
              "      <th>7</th>\n",
              "      <td>8</td>\n",
              "      <td>0=Blood Donor</td>\n",
              "      <td>32</td>\n",
              "      <td>m</td>\n",
              "      <td>42.2</td>\n",
              "      <td>41.9</td>\n",
              "      <td>35.8</td>\n",
              "      <td>31.1</td>\n",
              "      <td>16.1</td>\n",
              "      <td>5.82</td>\n",
              "      <td>4.60</td>\n",
              "      <td>109.0</td>\n",
              "      <td>21.5</td>\n",
              "      <td>67.1</td>\n",
              "    </tr>\n",
              "    <tr>\n",
              "      <th>8</th>\n",
              "      <td>9</td>\n",
              "      <td>0=Blood Donor</td>\n",
              "      <td>32</td>\n",
              "      <td>m</td>\n",
              "      <td>50.9</td>\n",
              "      <td>65.5</td>\n",
              "      <td>23.2</td>\n",
              "      <td>21.2</td>\n",
              "      <td>6.9</td>\n",
              "      <td>8.69</td>\n",
              "      <td>4.10</td>\n",
              "      <td>83.0</td>\n",
              "      <td>13.7</td>\n",
              "      <td>71.3</td>\n",
              "    </tr>\n",
              "    <tr>\n",
              "      <th>9</th>\n",
              "      <td>10</td>\n",
              "      <td>0=Blood Donor</td>\n",
              "      <td>32</td>\n",
              "      <td>m</td>\n",
              "      <td>42.4</td>\n",
              "      <td>86.3</td>\n",
              "      <td>20.3</td>\n",
              "      <td>20.0</td>\n",
              "      <td>35.2</td>\n",
              "      <td>5.46</td>\n",
              "      <td>4.45</td>\n",
              "      <td>81.0</td>\n",
              "      <td>15.9</td>\n",
              "      <td>69.9</td>\n",
              "    </tr>\n",
              "  </tbody>\n",
              "</table>\n",
              "</div>"
            ],
            "text/plain": [
              "   Unnamed: 0       Category  Age Sex   ALB  ...    CHE  CHOL   CREA   GGT  PROT\n",
              "0           1  0=Blood Donor   32   m  38.5  ...   6.93  3.23  106.0  12.1  69.0\n",
              "1           2  0=Blood Donor   32   m  38.5  ...  11.17  4.80   74.0  15.6  76.5\n",
              "2           3  0=Blood Donor   32   m  46.9  ...   8.84  5.20   86.0  33.2  79.3\n",
              "3           4  0=Blood Donor   32   m  43.2  ...   7.33  4.74   80.0  33.8  75.7\n",
              "4           5  0=Blood Donor   32   m  39.2  ...   9.15  4.32   76.0  29.9  68.7\n",
              "5           6  0=Blood Donor   32   m  41.6  ...   9.92  6.05  111.0  91.0  74.0\n",
              "6           7  0=Blood Donor   32   m  46.3  ...   7.01  4.79   70.0  16.9  74.5\n",
              "7           8  0=Blood Donor   32   m  42.2  ...   5.82  4.60  109.0  21.5  67.1\n",
              "8           9  0=Blood Donor   32   m  50.9  ...   8.69  4.10   83.0  13.7  71.3\n",
              "9          10  0=Blood Donor   32   m  42.4  ...   5.46  4.45   81.0  15.9  69.9\n",
              "\n",
              "[10 rows x 14 columns]"
            ]
          },
          "metadata": {},
          "execution_count": 4
        }
      ]
    },
    {
      "cell_type": "code",
      "metadata": {
        "colab": {
          "base_uri": "https://localhost:8080/",
          "height": 357
        },
        "id": "kAjbllFcXN_c",
        "outputId": "3b5a996f-377e-40af-e323-f94dbf1c5c35"
      },
      "source": [
        "df.tail(10)"
      ],
      "execution_count": 5,
      "outputs": [
        {
          "output_type": "execute_result",
          "data": {
            "text/html": [
              "<div>\n",
              "<style scoped>\n",
              "    .dataframe tbody tr th:only-of-type {\n",
              "        vertical-align: middle;\n",
              "    }\n",
              "\n",
              "    .dataframe tbody tr th {\n",
              "        vertical-align: top;\n",
              "    }\n",
              "\n",
              "    .dataframe thead th {\n",
              "        text-align: right;\n",
              "    }\n",
              "</style>\n",
              "<table border=\"1\" class=\"dataframe\">\n",
              "  <thead>\n",
              "    <tr style=\"text-align: right;\">\n",
              "      <th></th>\n",
              "      <th>Unnamed: 0</th>\n",
              "      <th>Category</th>\n",
              "      <th>Age</th>\n",
              "      <th>Sex</th>\n",
              "      <th>ALB</th>\n",
              "      <th>ALP</th>\n",
              "      <th>ALT</th>\n",
              "      <th>AST</th>\n",
              "      <th>BIL</th>\n",
              "      <th>CHE</th>\n",
              "      <th>CHOL</th>\n",
              "      <th>CREA</th>\n",
              "      <th>GGT</th>\n",
              "      <th>PROT</th>\n",
              "    </tr>\n",
              "  </thead>\n",
              "  <tbody>\n",
              "    <tr>\n",
              "      <th>605</th>\n",
              "      <td>606</td>\n",
              "      <td>3=Cirrhosis</td>\n",
              "      <td>42</td>\n",
              "      <td>f</td>\n",
              "      <td>33.0</td>\n",
              "      <td>79.0</td>\n",
              "      <td>3.7</td>\n",
              "      <td>55.7</td>\n",
              "      <td>200.0</td>\n",
              "      <td>1.72</td>\n",
              "      <td>5.16</td>\n",
              "      <td>89.1</td>\n",
              "      <td>146.3</td>\n",
              "      <td>69.9</td>\n",
              "    </tr>\n",
              "    <tr>\n",
              "      <th>606</th>\n",
              "      <td>607</td>\n",
              "      <td>3=Cirrhosis</td>\n",
              "      <td>49</td>\n",
              "      <td>f</td>\n",
              "      <td>33.0</td>\n",
              "      <td>190.7</td>\n",
              "      <td>1.2</td>\n",
              "      <td>36.3</td>\n",
              "      <td>7.0</td>\n",
              "      <td>6.92</td>\n",
              "      <td>3.82</td>\n",
              "      <td>485.9</td>\n",
              "      <td>112.0</td>\n",
              "      <td>58.5</td>\n",
              "    </tr>\n",
              "    <tr>\n",
              "      <th>607</th>\n",
              "      <td>608</td>\n",
              "      <td>3=Cirrhosis</td>\n",
              "      <td>52</td>\n",
              "      <td>f</td>\n",
              "      <td>39.0</td>\n",
              "      <td>37.0</td>\n",
              "      <td>1.3</td>\n",
              "      <td>30.4</td>\n",
              "      <td>21.0</td>\n",
              "      <td>6.33</td>\n",
              "      <td>3.78</td>\n",
              "      <td>158.2</td>\n",
              "      <td>142.5</td>\n",
              "      <td>82.7</td>\n",
              "    </tr>\n",
              "    <tr>\n",
              "      <th>608</th>\n",
              "      <td>609</td>\n",
              "      <td>3=Cirrhosis</td>\n",
              "      <td>58</td>\n",
              "      <td>f</td>\n",
              "      <td>34.0</td>\n",
              "      <td>46.4</td>\n",
              "      <td>15.0</td>\n",
              "      <td>150.0</td>\n",
              "      <td>8.0</td>\n",
              "      <td>6.26</td>\n",
              "      <td>3.98</td>\n",
              "      <td>56.0</td>\n",
              "      <td>49.7</td>\n",
              "      <td>80.6</td>\n",
              "    </tr>\n",
              "    <tr>\n",
              "      <th>609</th>\n",
              "      <td>610</td>\n",
              "      <td>3=Cirrhosis</td>\n",
              "      <td>59</td>\n",
              "      <td>f</td>\n",
              "      <td>39.0</td>\n",
              "      <td>51.3</td>\n",
              "      <td>19.6</td>\n",
              "      <td>285.8</td>\n",
              "      <td>40.0</td>\n",
              "      <td>5.77</td>\n",
              "      <td>4.51</td>\n",
              "      <td>136.1</td>\n",
              "      <td>101.1</td>\n",
              "      <td>70.5</td>\n",
              "    </tr>\n",
              "    <tr>\n",
              "      <th>610</th>\n",
              "      <td>611</td>\n",
              "      <td>3=Cirrhosis</td>\n",
              "      <td>62</td>\n",
              "      <td>f</td>\n",
              "      <td>32.0</td>\n",
              "      <td>416.6</td>\n",
              "      <td>5.9</td>\n",
              "      <td>110.3</td>\n",
              "      <td>50.0</td>\n",
              "      <td>5.57</td>\n",
              "      <td>6.30</td>\n",
              "      <td>55.7</td>\n",
              "      <td>650.9</td>\n",
              "      <td>68.5</td>\n",
              "    </tr>\n",
              "    <tr>\n",
              "      <th>611</th>\n",
              "      <td>612</td>\n",
              "      <td>3=Cirrhosis</td>\n",
              "      <td>64</td>\n",
              "      <td>f</td>\n",
              "      <td>24.0</td>\n",
              "      <td>102.8</td>\n",
              "      <td>2.9</td>\n",
              "      <td>44.4</td>\n",
              "      <td>20.0</td>\n",
              "      <td>1.54</td>\n",
              "      <td>3.02</td>\n",
              "      <td>63.0</td>\n",
              "      <td>35.9</td>\n",
              "      <td>71.3</td>\n",
              "    </tr>\n",
              "    <tr>\n",
              "      <th>612</th>\n",
              "      <td>613</td>\n",
              "      <td>3=Cirrhosis</td>\n",
              "      <td>64</td>\n",
              "      <td>f</td>\n",
              "      <td>29.0</td>\n",
              "      <td>87.3</td>\n",
              "      <td>3.5</td>\n",
              "      <td>99.0</td>\n",
              "      <td>48.0</td>\n",
              "      <td>1.66</td>\n",
              "      <td>3.63</td>\n",
              "      <td>66.7</td>\n",
              "      <td>64.2</td>\n",
              "      <td>82.0</td>\n",
              "    </tr>\n",
              "    <tr>\n",
              "      <th>613</th>\n",
              "      <td>614</td>\n",
              "      <td>3=Cirrhosis</td>\n",
              "      <td>46</td>\n",
              "      <td>f</td>\n",
              "      <td>33.0</td>\n",
              "      <td>NaN</td>\n",
              "      <td>39.0</td>\n",
              "      <td>62.0</td>\n",
              "      <td>20.0</td>\n",
              "      <td>3.56</td>\n",
              "      <td>4.20</td>\n",
              "      <td>52.0</td>\n",
              "      <td>50.0</td>\n",
              "      <td>71.0</td>\n",
              "    </tr>\n",
              "    <tr>\n",
              "      <th>614</th>\n",
              "      <td>615</td>\n",
              "      <td>3=Cirrhosis</td>\n",
              "      <td>59</td>\n",
              "      <td>f</td>\n",
              "      <td>36.0</td>\n",
              "      <td>NaN</td>\n",
              "      <td>100.0</td>\n",
              "      <td>80.0</td>\n",
              "      <td>12.0</td>\n",
              "      <td>9.07</td>\n",
              "      <td>5.30</td>\n",
              "      <td>67.0</td>\n",
              "      <td>34.0</td>\n",
              "      <td>68.0</td>\n",
              "    </tr>\n",
              "  </tbody>\n",
              "</table>\n",
              "</div>"
            ],
            "text/plain": [
              "     Unnamed: 0     Category  Age Sex   ALB  ...   CHE  CHOL   CREA    GGT  PROT\n",
              "605         606  3=Cirrhosis   42   f  33.0  ...  1.72  5.16   89.1  146.3  69.9\n",
              "606         607  3=Cirrhosis   49   f  33.0  ...  6.92  3.82  485.9  112.0  58.5\n",
              "607         608  3=Cirrhosis   52   f  39.0  ...  6.33  3.78  158.2  142.5  82.7\n",
              "608         609  3=Cirrhosis   58   f  34.0  ...  6.26  3.98   56.0   49.7  80.6\n",
              "609         610  3=Cirrhosis   59   f  39.0  ...  5.77  4.51  136.1  101.1  70.5\n",
              "610         611  3=Cirrhosis   62   f  32.0  ...  5.57  6.30   55.7  650.9  68.5\n",
              "611         612  3=Cirrhosis   64   f  24.0  ...  1.54  3.02   63.0   35.9  71.3\n",
              "612         613  3=Cirrhosis   64   f  29.0  ...  1.66  3.63   66.7   64.2  82.0\n",
              "613         614  3=Cirrhosis   46   f  33.0  ...  3.56  4.20   52.0   50.0  71.0\n",
              "614         615  3=Cirrhosis   59   f  36.0  ...  9.07  5.30   67.0   34.0  68.0\n",
              "\n",
              "[10 rows x 14 columns]"
            ]
          },
          "metadata": {},
          "execution_count": 5
        }
      ]
    },
    {
      "cell_type": "code",
      "metadata": {
        "colab": {
          "base_uri": "https://localhost:8080/",
          "height": 332
        },
        "id": "RiebEXkbXC7u",
        "outputId": "d0736eff-6191-49df-82a0-ae7bc1ca9eab"
      },
      "source": [
        "df.describe()"
      ],
      "execution_count": 6,
      "outputs": [
        {
          "output_type": "execute_result",
          "data": {
            "text/html": [
              "<div>\n",
              "<style scoped>\n",
              "    .dataframe tbody tr th:only-of-type {\n",
              "        vertical-align: middle;\n",
              "    }\n",
              "\n",
              "    .dataframe tbody tr th {\n",
              "        vertical-align: top;\n",
              "    }\n",
              "\n",
              "    .dataframe thead th {\n",
              "        text-align: right;\n",
              "    }\n",
              "</style>\n",
              "<table border=\"1\" class=\"dataframe\">\n",
              "  <thead>\n",
              "    <tr style=\"text-align: right;\">\n",
              "      <th></th>\n",
              "      <th>Unnamed: 0</th>\n",
              "      <th>Age</th>\n",
              "      <th>ALB</th>\n",
              "      <th>ALP</th>\n",
              "      <th>ALT</th>\n",
              "      <th>AST</th>\n",
              "      <th>BIL</th>\n",
              "      <th>CHE</th>\n",
              "      <th>CHOL</th>\n",
              "      <th>CREA</th>\n",
              "      <th>GGT</th>\n",
              "      <th>PROT</th>\n",
              "    </tr>\n",
              "  </thead>\n",
              "  <tbody>\n",
              "    <tr>\n",
              "      <th>count</th>\n",
              "      <td>615.000000</td>\n",
              "      <td>615.000000</td>\n",
              "      <td>614.000000</td>\n",
              "      <td>597.000000</td>\n",
              "      <td>614.000000</td>\n",
              "      <td>615.000000</td>\n",
              "      <td>615.000000</td>\n",
              "      <td>615.000000</td>\n",
              "      <td>605.000000</td>\n",
              "      <td>615.000000</td>\n",
              "      <td>615.000000</td>\n",
              "      <td>614.000000</td>\n",
              "    </tr>\n",
              "    <tr>\n",
              "      <th>mean</th>\n",
              "      <td>308.000000</td>\n",
              "      <td>47.408130</td>\n",
              "      <td>41.620195</td>\n",
              "      <td>68.283920</td>\n",
              "      <td>28.450814</td>\n",
              "      <td>34.786341</td>\n",
              "      <td>11.396748</td>\n",
              "      <td>8.196634</td>\n",
              "      <td>5.368099</td>\n",
              "      <td>81.287805</td>\n",
              "      <td>39.533171</td>\n",
              "      <td>72.044137</td>\n",
              "    </tr>\n",
              "    <tr>\n",
              "      <th>std</th>\n",
              "      <td>177.679487</td>\n",
              "      <td>10.055105</td>\n",
              "      <td>5.780629</td>\n",
              "      <td>26.028315</td>\n",
              "      <td>25.469689</td>\n",
              "      <td>33.090690</td>\n",
              "      <td>19.673150</td>\n",
              "      <td>2.205657</td>\n",
              "      <td>1.132728</td>\n",
              "      <td>49.756166</td>\n",
              "      <td>54.661071</td>\n",
              "      <td>5.402636</td>\n",
              "    </tr>\n",
              "    <tr>\n",
              "      <th>min</th>\n",
              "      <td>1.000000</td>\n",
              "      <td>19.000000</td>\n",
              "      <td>14.900000</td>\n",
              "      <td>11.300000</td>\n",
              "      <td>0.900000</td>\n",
              "      <td>10.600000</td>\n",
              "      <td>0.800000</td>\n",
              "      <td>1.420000</td>\n",
              "      <td>1.430000</td>\n",
              "      <td>8.000000</td>\n",
              "      <td>4.500000</td>\n",
              "      <td>44.800000</td>\n",
              "    </tr>\n",
              "    <tr>\n",
              "      <th>25%</th>\n",
              "      <td>154.500000</td>\n",
              "      <td>39.000000</td>\n",
              "      <td>38.800000</td>\n",
              "      <td>52.500000</td>\n",
              "      <td>16.400000</td>\n",
              "      <td>21.600000</td>\n",
              "      <td>5.300000</td>\n",
              "      <td>6.935000</td>\n",
              "      <td>4.610000</td>\n",
              "      <td>67.000000</td>\n",
              "      <td>15.700000</td>\n",
              "      <td>69.300000</td>\n",
              "    </tr>\n",
              "    <tr>\n",
              "      <th>50%</th>\n",
              "      <td>308.000000</td>\n",
              "      <td>47.000000</td>\n",
              "      <td>41.950000</td>\n",
              "      <td>66.200000</td>\n",
              "      <td>23.000000</td>\n",
              "      <td>25.900000</td>\n",
              "      <td>7.300000</td>\n",
              "      <td>8.260000</td>\n",
              "      <td>5.300000</td>\n",
              "      <td>77.000000</td>\n",
              "      <td>23.300000</td>\n",
              "      <td>72.200000</td>\n",
              "    </tr>\n",
              "    <tr>\n",
              "      <th>75%</th>\n",
              "      <td>461.500000</td>\n",
              "      <td>54.000000</td>\n",
              "      <td>45.200000</td>\n",
              "      <td>80.100000</td>\n",
              "      <td>33.075000</td>\n",
              "      <td>32.900000</td>\n",
              "      <td>11.200000</td>\n",
              "      <td>9.590000</td>\n",
              "      <td>6.060000</td>\n",
              "      <td>88.000000</td>\n",
              "      <td>40.200000</td>\n",
              "      <td>75.400000</td>\n",
              "    </tr>\n",
              "    <tr>\n",
              "      <th>max</th>\n",
              "      <td>615.000000</td>\n",
              "      <td>77.000000</td>\n",
              "      <td>82.200000</td>\n",
              "      <td>416.600000</td>\n",
              "      <td>325.300000</td>\n",
              "      <td>324.000000</td>\n",
              "      <td>254.000000</td>\n",
              "      <td>16.410000</td>\n",
              "      <td>9.670000</td>\n",
              "      <td>1079.100000</td>\n",
              "      <td>650.900000</td>\n",
              "      <td>90.000000</td>\n",
              "    </tr>\n",
              "  </tbody>\n",
              "</table>\n",
              "</div>"
            ],
            "text/plain": [
              "       Unnamed: 0         Age         ALB  ...         CREA         GGT        PROT\n",
              "count  615.000000  615.000000  614.000000  ...   615.000000  615.000000  614.000000\n",
              "mean   308.000000   47.408130   41.620195  ...    81.287805   39.533171   72.044137\n",
              "std    177.679487   10.055105    5.780629  ...    49.756166   54.661071    5.402636\n",
              "min      1.000000   19.000000   14.900000  ...     8.000000    4.500000   44.800000\n",
              "25%    154.500000   39.000000   38.800000  ...    67.000000   15.700000   69.300000\n",
              "50%    308.000000   47.000000   41.950000  ...    77.000000   23.300000   72.200000\n",
              "75%    461.500000   54.000000   45.200000  ...    88.000000   40.200000   75.400000\n",
              "max    615.000000   77.000000   82.200000  ...  1079.100000  650.900000   90.000000\n",
              "\n",
              "[8 rows x 12 columns]"
            ]
          },
          "metadata": {},
          "execution_count": 6
        }
      ]
    },
    {
      "cell_type": "code",
      "metadata": {
        "colab": {
          "base_uri": "https://localhost:8080/"
        },
        "id": "1h5Y0_bxXY3u",
        "outputId": "5d1dc043-0a42-403a-e12f-0fdb026a2554"
      },
      "source": [
        "df.info()"
      ],
      "execution_count": 7,
      "outputs": [
        {
          "output_type": "stream",
          "name": "stdout",
          "text": [
            "<class 'pandas.core.frame.DataFrame'>\n",
            "RangeIndex: 615 entries, 0 to 614\n",
            "Data columns (total 14 columns):\n",
            " #   Column      Non-Null Count  Dtype  \n",
            "---  ------      --------------  -----  \n",
            " 0   Unnamed: 0  615 non-null    int64  \n",
            " 1   Category    615 non-null    object \n",
            " 2   Age         615 non-null    int64  \n",
            " 3   Sex         615 non-null    object \n",
            " 4   ALB         614 non-null    float64\n",
            " 5   ALP         597 non-null    float64\n",
            " 6   ALT         614 non-null    float64\n",
            " 7   AST         615 non-null    float64\n",
            " 8   BIL         615 non-null    float64\n",
            " 9   CHE         615 non-null    float64\n",
            " 10  CHOL        605 non-null    float64\n",
            " 11  CREA        615 non-null    float64\n",
            " 12  GGT         615 non-null    float64\n",
            " 13  PROT        614 non-null    float64\n",
            "dtypes: float64(10), int64(2), object(2)\n",
            "memory usage: 67.4+ KB\n"
          ]
        }
      ]
    },
    {
      "cell_type": "code",
      "metadata": {
        "colab": {
          "base_uri": "https://localhost:8080/"
        },
        "id": "EQ8_O71DXd7Z",
        "outputId": "17dc7fd5-2d36-4f90-9c34-9072423fcbd4"
      },
      "source": [
        "df.isnull().sum()/len(df)*100"
      ],
      "execution_count": 8,
      "outputs": [
        {
          "output_type": "execute_result",
          "data": {
            "text/plain": [
              "Unnamed: 0    0.000000\n",
              "Category      0.000000\n",
              "Age           0.000000\n",
              "Sex           0.000000\n",
              "ALB           0.162602\n",
              "ALP           2.926829\n",
              "ALT           0.162602\n",
              "AST           0.000000\n",
              "BIL           0.000000\n",
              "CHE           0.000000\n",
              "CHOL          1.626016\n",
              "CREA          0.000000\n",
              "GGT           0.000000\n",
              "PROT          0.162602\n",
              "dtype: float64"
            ]
          },
          "metadata": {},
          "execution_count": 8
        }
      ]
    },
    {
      "cell_type": "code",
      "metadata": {
        "id": "6mX3J6wJXm4Q"
      },
      "source": [
        "df.fillna(df.median(),inplace= True)"
      ],
      "execution_count": 9,
      "outputs": []
    },
    {
      "cell_type": "code",
      "metadata": {
        "colab": {
          "base_uri": "https://localhost:8080/"
        },
        "id": "R4TqXAykYAD9",
        "outputId": "094a0ae9-4bf7-4835-fb35-c21ee68e4dc3"
      },
      "source": [
        "df.isnull().sum()"
      ],
      "execution_count": 10,
      "outputs": [
        {
          "output_type": "execute_result",
          "data": {
            "text/plain": [
              "Unnamed: 0    0\n",
              "Category      0\n",
              "Age           0\n",
              "Sex           0\n",
              "ALB           0\n",
              "ALP           0\n",
              "ALT           0\n",
              "AST           0\n",
              "BIL           0\n",
              "CHE           0\n",
              "CHOL          0\n",
              "CREA          0\n",
              "GGT           0\n",
              "PROT          0\n",
              "dtype: int64"
            ]
          },
          "metadata": {},
          "execution_count": 10
        }
      ]
    },
    {
      "cell_type": "code",
      "metadata": {
        "id": "rK6Fyl1RYGdJ"
      },
      "source": [
        "df = df.drop('Unnamed: 0', axis = 1)"
      ],
      "execution_count": 11,
      "outputs": []
    },
    {
      "cell_type": "code",
      "metadata": {
        "colab": {
          "base_uri": "https://localhost:8080/"
        },
        "id": "TZFuUMK5YO0O",
        "outputId": "fbff1382-5786-4ec9-c703-5488df4314c6"
      },
      "source": [
        "df.Category.unique()"
      ],
      "execution_count": 12,
      "outputs": [
        {
          "output_type": "execute_result",
          "data": {
            "text/plain": [
              "array(['0=Blood Donor', '0s=suspect Blood Donor', '1=Hepatitis',\n",
              "       '2=Fibrosis', '3=Cirrhosis'], dtype=object)"
            ]
          },
          "metadata": {},
          "execution_count": 12
        }
      ]
    },
    {
      "cell_type": "code",
      "metadata": {
        "id": "2nssgWU-YVfO"
      },
      "source": [
        "#Dealing with Numeric Values\n",
        "df['Category'] = df['Category'].map({'0=Blood Donor':0, '0s=Suspect Blood Donor':0, '1=Hepatisis':1,'2=Fibrosis':1,\n",
        "                                     '3=Cirrhosis':1,'3=Cirrhosis':1})\n",
        "df['Sex'] = df['Sex'].map({'f':1,'m':0})"
      ],
      "execution_count": 13,
      "outputs": []
    },
    {
      "cell_type": "code",
      "metadata": {
        "colab": {
          "base_uri": "https://localhost:8080/",
          "height": 203
        },
        "id": "Kpi6VZBqZN7D",
        "outputId": "3b18e817-bbac-4d6e-823c-74b9a4195fe1"
      },
      "source": [
        "df.head()"
      ],
      "execution_count": 14,
      "outputs": [
        {
          "output_type": "execute_result",
          "data": {
            "text/html": [
              "<div>\n",
              "<style scoped>\n",
              "    .dataframe tbody tr th:only-of-type {\n",
              "        vertical-align: middle;\n",
              "    }\n",
              "\n",
              "    .dataframe tbody tr th {\n",
              "        vertical-align: top;\n",
              "    }\n",
              "\n",
              "    .dataframe thead th {\n",
              "        text-align: right;\n",
              "    }\n",
              "</style>\n",
              "<table border=\"1\" class=\"dataframe\">\n",
              "  <thead>\n",
              "    <tr style=\"text-align: right;\">\n",
              "      <th></th>\n",
              "      <th>Category</th>\n",
              "      <th>Age</th>\n",
              "      <th>Sex</th>\n",
              "      <th>ALB</th>\n",
              "      <th>ALP</th>\n",
              "      <th>ALT</th>\n",
              "      <th>AST</th>\n",
              "      <th>BIL</th>\n",
              "      <th>CHE</th>\n",
              "      <th>CHOL</th>\n",
              "      <th>CREA</th>\n",
              "      <th>GGT</th>\n",
              "      <th>PROT</th>\n",
              "    </tr>\n",
              "  </thead>\n",
              "  <tbody>\n",
              "    <tr>\n",
              "      <th>0</th>\n",
              "      <td>0.0</td>\n",
              "      <td>32</td>\n",
              "      <td>0</td>\n",
              "      <td>38.5</td>\n",
              "      <td>52.5</td>\n",
              "      <td>7.7</td>\n",
              "      <td>22.1</td>\n",
              "      <td>7.5</td>\n",
              "      <td>6.93</td>\n",
              "      <td>3.23</td>\n",
              "      <td>106.0</td>\n",
              "      <td>12.1</td>\n",
              "      <td>69.0</td>\n",
              "    </tr>\n",
              "    <tr>\n",
              "      <th>1</th>\n",
              "      <td>0.0</td>\n",
              "      <td>32</td>\n",
              "      <td>0</td>\n",
              "      <td>38.5</td>\n",
              "      <td>70.3</td>\n",
              "      <td>18.0</td>\n",
              "      <td>24.7</td>\n",
              "      <td>3.9</td>\n",
              "      <td>11.17</td>\n",
              "      <td>4.80</td>\n",
              "      <td>74.0</td>\n",
              "      <td>15.6</td>\n",
              "      <td>76.5</td>\n",
              "    </tr>\n",
              "    <tr>\n",
              "      <th>2</th>\n",
              "      <td>0.0</td>\n",
              "      <td>32</td>\n",
              "      <td>0</td>\n",
              "      <td>46.9</td>\n",
              "      <td>74.7</td>\n",
              "      <td>36.2</td>\n",
              "      <td>52.6</td>\n",
              "      <td>6.1</td>\n",
              "      <td>8.84</td>\n",
              "      <td>5.20</td>\n",
              "      <td>86.0</td>\n",
              "      <td>33.2</td>\n",
              "      <td>79.3</td>\n",
              "    </tr>\n",
              "    <tr>\n",
              "      <th>3</th>\n",
              "      <td>0.0</td>\n",
              "      <td>32</td>\n",
              "      <td>0</td>\n",
              "      <td>43.2</td>\n",
              "      <td>52.0</td>\n",
              "      <td>30.6</td>\n",
              "      <td>22.6</td>\n",
              "      <td>18.9</td>\n",
              "      <td>7.33</td>\n",
              "      <td>4.74</td>\n",
              "      <td>80.0</td>\n",
              "      <td>33.8</td>\n",
              "      <td>75.7</td>\n",
              "    </tr>\n",
              "    <tr>\n",
              "      <th>4</th>\n",
              "      <td>0.0</td>\n",
              "      <td>32</td>\n",
              "      <td>0</td>\n",
              "      <td>39.2</td>\n",
              "      <td>74.1</td>\n",
              "      <td>32.6</td>\n",
              "      <td>24.8</td>\n",
              "      <td>9.6</td>\n",
              "      <td>9.15</td>\n",
              "      <td>4.32</td>\n",
              "      <td>76.0</td>\n",
              "      <td>29.9</td>\n",
              "      <td>68.7</td>\n",
              "    </tr>\n",
              "  </tbody>\n",
              "</table>\n",
              "</div>"
            ],
            "text/plain": [
              "   Category  Age  Sex   ALB   ALP   ALT  ...   BIL    CHE  CHOL   CREA   GGT  PROT\n",
              "0       0.0   32    0  38.5  52.5   7.7  ...   7.5   6.93  3.23  106.0  12.1  69.0\n",
              "1       0.0   32    0  38.5  70.3  18.0  ...   3.9  11.17  4.80   74.0  15.6  76.5\n",
              "2       0.0   32    0  46.9  74.7  36.2  ...   6.1   8.84  5.20   86.0  33.2  79.3\n",
              "3       0.0   32    0  43.2  52.0  30.6  ...  18.9   7.33  4.74   80.0  33.8  75.7\n",
              "4       0.0   32    0  39.2  74.1  32.6  ...   9.6   9.15  4.32   76.0  29.9  68.7\n",
              "\n",
              "[5 rows x 13 columns]"
            ]
          },
          "metadata": {},
          "execution_count": 14
        }
      ]
    },
    {
      "cell_type": "code",
      "metadata": {
        "colab": {
          "base_uri": "https://localhost:8080/"
        },
        "id": "UXMBC-5KZPGN",
        "outputId": "ef3c6548-e0b6-488f-d5e3-cd0bbf50aff0"
      },
      "source": [
        "df.dtypes"
      ],
      "execution_count": 15,
      "outputs": [
        {
          "output_type": "execute_result",
          "data": {
            "text/plain": [
              "Category    float64\n",
              "Age           int64\n",
              "Sex           int64\n",
              "ALB         float64\n",
              "ALP         float64\n",
              "ALT         float64\n",
              "AST         float64\n",
              "BIL         float64\n",
              "CHE         float64\n",
              "CHOL        float64\n",
              "CREA        float64\n",
              "GGT         float64\n",
              "PROT        float64\n",
              "dtype: object"
            ]
          },
          "metadata": {},
          "execution_count": 15
        }
      ]
    },
    {
      "cell_type": "code",
      "metadata": {
        "colab": {
          "base_uri": "https://localhost:8080/",
          "height": 506
        },
        "id": "Py0ykuMMZTGf",
        "outputId": "27f681cd-97f6-406d-87a7-7507de78c3c8"
      },
      "source": [
        "fig, ax = plt.subplots(figsize=(10,8))\n",
        "sns.heatmap(df.corr(),annot=True,cmap =\"Blues_r\")"
      ],
      "execution_count": 16,
      "outputs": [
        {
          "output_type": "execute_result",
          "data": {
            "text/plain": [
              "<matplotlib.axes._subplots.AxesSubplot at 0x7fdbcbba81d0>"
            ]
          },
          "metadata": {},
          "execution_count": 16
        },
        {
          "output_type": "display_data",
          "data": {
            "image/png": "[encoded data removed]",
            "text/plain": [
              "<Figure size 720x576 with 2 Axes>"
            ]
          },
          "metadata": {
            "needs_background": "light"
          }
        }
      ]
    },
    {
      "cell_type": "code",
      "metadata": {
        "colab": {
          "base_uri": "https://localhost:8080/"
        },
        "id": "wGxxizM7a9YY",
        "outputId": "e6a34018-c01e-49c2-b2fb-e52fe2b77ed7"
      },
      "source": [
        "print('Suspected Patients:', df.Category.value_counts()[0])\n",
        "print('Healthy Patients:',df.Category.value_counts()[1])"
      ],
      "execution_count": 17,
      "outputs": [
        {
          "output_type": "stream",
          "name": "stdout",
          "text": [
            "Suspected Patients: 533\n",
            "Healthy Patients: 51\n"
          ]
        }
      ]
    },
    {
      "cell_type": "code",
      "metadata": {
        "colab": {
          "base_uri": "https://localhost:8080/",
          "height": 427
        },
        "id": "cDkkfmQtcf1J",
        "outputId": "ad43c6bb-108a-42dd-cac6-fbf464fbe020"
      },
      "source": [
        "labels = df['Category'].value_counts(sort = True).index\n",
        "sizes = df['Category'].value_counts(sort = True)\n",
        "colors = [\"Blue\",\"Red\"]\n",
        "plt.figure(figsize = (7,7))\n",
        "plt.pie(sizes,labels=labels, colors=colors, autopct='%1.2f%%',startangle=90)\n",
        "plt.title('Category Pie')\n",
        "plt.show()"
      ],
      "execution_count": 18,
      "outputs": [
        {
          "output_type": "display_data",
          "data": {
            "image/png": "[encoded data removed]",
            "text/plain": [
              "<Figure size 504x504 with 1 Axes>"
            ]
          },
          "metadata": {}
        }
      ]
    },
    {
      "cell_type": "code",
      "metadata": {
        "colab": {
          "base_uri": "https://localhost:8080/"
        },
        "id": "z5VIG8O1eUXM",
        "outputId": "b8f45a83-a681-4ecb-d6ec-1a9c6bf6a8bc"
      },
      "source": [
        "print('Suspected Female Patients:',df.Sex.value_counts()[1])\n",
        "print('Suspected Male Patients:',df.Sex.value_counts()[0])"
      ],
      "execution_count": 19,
      "outputs": [
        {
          "output_type": "stream",
          "name": "stdout",
          "text": [
            "Suspected Female Patients: 238\n",
            "Suspected Male Patients: 377\n"
          ]
        }
      ]
    },
    {
      "cell_type": "code",
      "metadata": {
        "colab": {
          "base_uri": "https://localhost:8080/",
          "height": 427
        },
        "id": "KwPxlWEpfcdP",
        "outputId": "8e13cc79-e371-4059-88a9-675ec39bc949"
      },
      "source": [
        "labels = df['Sex'].value_counts(sort = True).index\n",
        "sizes = df['Sex'].value_counts(sort = True)\n",
        "colors = [\"skyblue\",\"pink\"]\n",
        "plt.figure(figsize = (7,7))\n",
        "plt.pie(sizes,labels=labels, colors=colors, autopct='%1.2f%%',startangle=90)\n",
        "plt.title('Category Pie')\n",
        "plt.show()"
      ],
      "execution_count": 20,
      "outputs": [
        {
          "output_type": "display_data",
          "data": {
            "image/png": "[encoded data removed]",
            "text/plain": [
              "<Figure size 504x504 with 1 Axes>"
            ]
          },
          "metadata": {}
        }
      ]
    },
    {
      "cell_type": "code",
      "metadata": {
        "colab": {
          "base_uri": "https://localhost:8080/",
          "height": 1000
        },
        "id": "Egz-Zgr4gJPz",
        "outputId": "ce103c78-b067-4677-9647-5dae6d4efa80"
      },
      "source": [
        "fig, ax =plt.subplots(5,2, figsize=(20,25)) \n",
        "plt.style.use(\"classic\")\n",
        "\n",
        "\n",
        "sns.histplot(x = df[\"Age\"], hue = df[\"Category\"], ax=ax[0,0]);\n",
        "ax[0,0].set_xlabel(\"Age\",fontsize=15)\n",
        "sns.histplot(x = df[\"ALB\"], hue = df[\"Category\"], ax=ax[0,1]);\n",
        "ax[0,1].set_xlabel(\"ALB\",fontsize=15)\n",
        "sns.histplot(x = df[\"ALP\"], hue = df[\"Category\"],  ax=ax[1,0]);\n",
        "ax[1,0].set_xlabel(\"ALP\",fontsize=15)\n",
        "sns.histplot(x = df[\"ALT\"], hue = df[\"Category\"],  ax=ax[1,1]);\n",
        "ax[1,1].set_xlabel(\"ALT\",fontsize=15)\n",
        "sns.histplot(x = df[\"AST\"], hue = df[\"Category\"],  ax=ax[2,0]);\n",
        "ax[2,0].set_xlabel(\"AST\",fontsize=15)\n",
        "sns.histplot(x = df[\"BIL\"], hue = df[\"Category\"],  ax=ax[2,1]);\n",
        "ax[2,1].set_xlabel(\"BIL\",fontsize=15)\n",
        "sns.histplot(x = df[\"CHE\"], hue = df[\"Category\"],  ax=ax[3,0]);\n",
        "ax[3,0].set_xlabel(\"CHE\",fontsize=15)\n",
        "sns.histplot(x = df[\"CHOL\"], hue = df[\"Category\"], ax=ax[3,1]);\n",
        "ax[3,1].set_xlabel(\"CHOL\",fontsize=15);\n",
        "sns.histplot(x = df[\"CREA\"], hue = df[\"Category\"], ax=ax[4,0]);\n",
        "ax[4,0].set_xlabel(\"CREA\",fontsize=15)\n",
        "sns.histplot(x = df[\"GGT\"], hue = df[\"Category\"],  ax=ax[4,1]);\n",
        "ax[4,1].set_xlabel(\"GGT\",fontsize=15);"
      ],
      "execution_count": 21,
      "outputs": [
        {
          "output_type": "display_data",
          "data": {
            "image/png": "[encoded data removed]",
            "text/plain": [
              "<Figure size 1440x1800 with 10 Axes>"
            ]
          },
          "metadata": {
            "needs_background": "light"
          }
        }
      ]
    },
    {
      "cell_type": "markdown",
      "metadata": {
        "id": "Kfwg0b_Uh4DZ"
      },
      "source": [
        "ML MODELS"
      ]
    },
    {
      "cell_type": "code",
      "metadata": {
        "id": "QmtCOQFkh59A"
      },
      "source": [
        "from sklearn import preprocessing\n",
        "from sklearn.model_selection import train_test_split\n",
        "from sklearn.preprocessing import StandardScaler\n"
      ],
      "execution_count": 92,
      "outputs": []
    },
    {
      "cell_type": "code",
      "metadata": {
        "id": "fGFIol19iNJD"
      },
      "source": [
        "X = df.drop([\"Category\"],axis=1)\n",
        "Y = df['Category']"
      ],
      "execution_count": 103,
      "outputs": []
    },
    {
      "cell_type": "code",
      "metadata": {
        "id": "vK5sknDLiThd"
      },
      "source": [
        "X_train, X_test, Y_train, Y_test = train_test_split(X, Y,test_size = 0.2,random_state=42)"
      ],
      "execution_count": 104,
      "outputs": []
    },
    {
      "cell_type": "code",
      "metadata": {
        "id": "OJY9x7-nidfY"
      },
      "source": [
        "scaler = StandardScaler()\n",
        "X_train = scaler.fit_transform(X_train)\n",
        "X_test = scaler.transform(X_test)"
      ],
      "execution_count": 105,
      "outputs": []
    },
    {
      "cell_type": "markdown",
      "metadata": {
        "id": "YGIJ7q6di09n"
      },
      "source": [
        "LOGISTIC REGRESSION"
      ]
    },
    {
      "cell_type": "code",
      "metadata": {
        "colab": {
          "base_uri": "https://localhost:8080/"
        },
        "id": "rDR7tMG3i3Eq",
        "outputId": "c6d9f311-1d27-4a29-c191-37f88a270bc8"
      },
      "source": [
        "from sklearn.linear_model import LogisticRegression\n",
        "lr = LogisticRegression()\n",
        "lr.fit(X_train, Y_train)"
      ],
      "execution_count": 106,
      "outputs": [
        {
          "output_type": "execute_result",
          "data": {
            "text/plain": [
              "LogisticRegression(C=1.0, class_weight=None, dual=False, fit_intercept=True,\n",
              "                   intercept_scaling=1, l1_ratio=None, max_iter=100,\n",
              "                   multi_class='auto', n_jobs=None, penalty='l2',\n",
              "                   random_state=None, solver='lbfgs', tol=0.0001, verbose=0,\n",
              "                   warm_start=False)"
            ]
          },
          "metadata": {},
          "execution_count": 106
        }
      ]
    },
    {
      "cell_type": "code",
      "metadata": {
        "colab": {
          "base_uri": "https://localhost:8080/"
        },
        "id": "MXEvHR5gj6R6",
        "outputId": "cc43a166-93bc-4d2a-f971-fea2fb88c8a9"
      },
      "source": [
        "LrScore = lr.score(X_test, Y_test)\n",
        "print(\"Accuracy Score on Logistic Regression Model:\", LrScore )"
      ],
      "execution_count": 107,
      "outputs": [
        {
          "output_type": "stream",
          "name": "stdout",
          "text": [
            "Accuracy Score on Logistic Regression Model: 0.9105691056910569\n"
          ]
        }
      ]
    },
    {
      "cell_type": "markdown",
      "metadata": {
        "id": "IHM4A54ilEit"
      },
      "source": [
        "Confusion Matrix for Logistic Regression"
      ]
    },
    {
      "cell_type": "code",
      "metadata": {
        "colab": {
          "base_uri": "https://localhost:8080/",
          "height": 473
        },
        "id": "1VuDCojSlkLI",
        "outputId": "b740efea-9325-45f0-c5dc-cad0f1a5ae4e"
      },
      "source": [
        "from sklearn.metrics import confusion_matrix\n",
        "lrPred = lr.predict(X_test)\n",
        "lr_cf = confusion_matrix(Y_test, lrPred)\n",
        "sns.heatmap(cf_matrix, annot= True, fmt=\"d\", cmap='Blues_r')\n",
        "plt.title('Confusion Matrix for Logistic Regression')"
      ],
      "execution_count": 129,
      "outputs": [
        {
          "output_type": "execute_result",
          "data": {
            "text/plain": [
              "Text(0.5, 1.0, 'Confusion Matrix for Logistic Regression')"
            ]
          },
          "metadata": {},
          "execution_count": 129
        },
        {
          "output_type": "display_data",
          "data": {
            "image/png": "[encoded data removed]",
            "text/plain": [
              "<Figure size 640x480 with 2 Axes>"
            ]
          },
          "metadata": {}
        }
      ]
    },
    {
      "cell_type": "code",
      "metadata": {
        "colab": {
          "base_uri": "https://localhost:8080/"
        },
        "id": "n6pFG0_imsIU",
        "outputId": "f9fae97d-5c78-4dcc-f965-e6808d24ffb8"
      },
      "source": [
        "from sklearn.metrics import classification_report\n",
        "from sklearn import metrics\n",
        "print(metrics.classification_report(Y_test, lrPred))\n"
      ],
      "execution_count": 122,
      "outputs": [
        {
          "output_type": "stream",
          "name": "stdout",
          "text": [
            "              precision    recall  f1-score   support\n",
            "\n",
            "         0.0       0.91      0.99      0.95       108\n",
            "         1.0       0.83      0.33      0.48        15\n",
            "\n",
            "    accuracy                           0.91       123\n",
            "   macro avg       0.87      0.66      0.71       123\n",
            "weighted avg       0.90      0.91      0.89       123\n",
            "\n"
          ]
        }
      ]
    },
    {
      "cell_type": "markdown",
      "metadata": {
        "id": "mdF3ijdLqCl-"
      },
      "source": [
        "Random Forest Classifier"
      ]
    },
    {
      "cell_type": "code",
      "metadata": {
        "colab": {
          "base_uri": "https://localhost:8080/"
        },
        "id": "fG08SOJ5qEb3",
        "outputId": "a5236433-265b-4ca2-ad18-fa21fb4c06fa"
      },
      "source": [
        "from sklearn.ensemble import RandomForestClassifier\n",
        "rfc= RandomForestClassifier()\n",
        "rfc.fit(X_train, Y_train)\n",
        "rfScore = rfc.score(X_test, Y_test)\n",
        "print(\"Accuracy Score on Random Forest Classifier:\", rfScore)"
      ],
      "execution_count": 124,
      "outputs": [
        {
          "output_type": "stream",
          "name": "stdout",
          "text": [
            "Accuracy Score on Random Forest Classifier: 0.9349593495934959\n"
          ]
        }
      ]
    },
    {
      "cell_type": "markdown",
      "metadata": {
        "id": "RAckWUEMqc03"
      },
      "source": [
        "Confusion Matrix for Random Forest Classifier"
      ]
    },
    {
      "cell_type": "code",
      "metadata": {
        "colab": {
          "base_uri": "https://localhost:8080/",
          "height": 473
        },
        "id": "Yq3dH6VTqgf7",
        "outputId": "a332c4d3-2c5c-4a1d-c39a-69907fff4e36"
      },
      "source": [
        "rfcPred = rfc.predict(X_test)\n",
        "rfc_cf = confusion_matrix(Y_test, rfcPred)\n",
        "sns.heatmap(rfc_cf, annot = True, fmt=\"d\", cmap='Blues_r')\n",
        "plt.title(\"Confusion Matric for Random Forest Classifier\")"
      ],
      "execution_count": 128,
      "outputs": [
        {
          "output_type": "execute_result",
          "data": {
            "text/plain": [
              "Text(0.5, 1.0, 'Confusion Matric for Random Forest Classifier')"
            ]
          },
          "metadata": {},
          "execution_count": 128
        },
        {
          "output_type": "display_data",
          "data": {
            "image/png": "[encoded data removed]",
            "text/plain": [
              "<Figure size 640x480 with 2 Axes>"
            ]
          },
          "metadata": {}
        }
      ]
    },
    {
      "cell_type": "code",
      "metadata": {
        "colab": {
          "base_uri": "https://localhost:8080/"
        },
        "id": "P7sVVHH5qsKG",
        "outputId": "af7ec1e2-859f-4875-8d00-828ff2b48bcf"
      },
      "source": [
        "print(metrics.classification_report(Y_test, rfcPred))"
      ],
      "execution_count": 130,
      "outputs": [
        {
          "output_type": "stream",
          "name": "stdout",
          "text": [
            "              precision    recall  f1-score   support\n",
            "\n",
            "         0.0       0.95      0.98      0.96       108\n",
            "         1.0       0.82      0.60      0.69        15\n",
            "\n",
            "    accuracy                           0.93       123\n",
            "   macro avg       0.88      0.79      0.83       123\n",
            "weighted avg       0.93      0.93      0.93       123\n",
            "\n"
          ]
        }
      ]
    },
    {
      "cell_type": "markdown",
      "metadata": {
        "id": "ZPN4iKQKrK7C"
      },
      "source": [
        "K NEIGHBORS CLASSIFIER"
      ]
    },
    {
      "cell_type": "code",
      "metadata": {
        "colab": {
          "base_uri": "https://localhost:8080/"
        },
        "id": "Evp5ZxParOqD",
        "outputId": "3e3a7c68-96c1-432a-8f2b-106c62d9be01"
      },
      "source": [
        "from sklearn.neighbors import KNeighborsClassifier\n",
        "knn = KNeighborsClassifier()\n",
        "knn.fit(X_train, Y_train)\n",
        "knnScore = knn.score(X_test, Y_test)\n",
        "print(\"Accuracy Score on K Neighbors Classifier:\", knnScore)"
      ],
      "execution_count": 131,
      "outputs": [
        {
          "output_type": "stream",
          "name": "stdout",
          "text": [
            "Accuracy Score on K Neighbors Classifier: 0.9024390243902439\n"
          ]
        }
      ]
    },
    {
      "cell_type": "markdown",
      "metadata": {
        "id": "4IhspqE7rlmI"
      },
      "source": [
        "Confusion Matrix for K Neighbors Classifier"
      ]
    },
    {
      "cell_type": "code",
      "metadata": {
        "colab": {
          "base_uri": "https://localhost:8080/",
          "height": 473
        },
        "id": "pdfpkdwIrn3e",
        "outputId": "6e3f3921-f44b-45e0-a15b-e11caecab861"
      },
      "source": [
        "knnPred = knn.predict(X_test)\n",
        "knn_cf = confusion_matrix(Y_test, knnPred)\n",
        "sns.heatmap(knn_cf, annot=True,fmt=\"d\", cmap=\"Blues_r\")\n",
        "plt.title(\"Confusion Matrix for K Neighbors Classifier\")"
      ],
      "execution_count": 133,
      "outputs": [
        {
          "output_type": "execute_result",
          "data": {
            "text/plain": [
              "Text(0.5, 1.0, 'Confusion Matrix for K Neighbors Classifier')"
            ]
          },
          "metadata": {},
          "execution_count": 133
        },
        {
          "output_type": "display_data",
          "data": {
            "image/png": "[encoded data removed]",
            "text/plain": [
              "<Figure size 640x480 with 2 Axes>"
            ]
          },
          "metadata": {}
        }
      ]
    },
    {
      "cell_type": "code",
      "metadata": {
        "colab": {
          "base_uri": "https://localhost:8080/"
        },
        "id": "HdjEOuMMr9Fw",
        "outputId": "56d4dd79-5aa4-4431-f5f9-50b71d2bc067"
      },
      "source": [
        "print(metrics.classification_report(Y_test, knnPred))"
      ],
      "execution_count": 134,
      "outputs": [
        {
          "output_type": "stream",
          "name": "stdout",
          "text": [
            "              precision    recall  f1-score   support\n",
            "\n",
            "         0.0       0.91      0.99      0.95       108\n",
            "         1.0       0.80      0.27      0.40        15\n",
            "\n",
            "    accuracy                           0.90       123\n",
            "   macro avg       0.85      0.63      0.67       123\n",
            "weighted avg       0.89      0.90      0.88       123\n",
            "\n"
          ]
        }
      ]
    },
    {
      "cell_type": "markdown",
      "metadata": {
        "id": "lo92NGVN1VvB"
      },
      "source": [
        "Decision Tree Classifier"
      ]
    },
    {
      "cell_type": "code",
      "metadata": {
        "colab": {
          "base_uri": "https://localhost:8080/"
        },
        "id": "12oTyItO1Xk8",
        "outputId": "bf036a4f-eac7-47d4-a386-eee399f657e5"
      },
      "source": [
        "from sklearn.tree import DecisionTreeClassifier\n",
        "dtc = DecisionTreeClassifier()\n",
        "dtc.fit(X_train, Y_train)\n",
        "dtcScore = dtc.score(X_test, Y_test)\n",
        "print(\"Accuracy Score on Decision Tree Classifier:\",dtcScore)"
      ],
      "execution_count": 135,
      "outputs": [
        {
          "output_type": "stream",
          "name": "stdout",
          "text": [
            "Accuracy Score on Decision Tree Classifier: 0.8780487804878049\n"
          ]
        }
      ]
    },
    {
      "cell_type": "markdown",
      "metadata": {
        "id": "sUjbcW1-1skZ"
      },
      "source": [
        "Confusion Matrix for Decision Tree Classifier"
      ]
    },
    {
      "cell_type": "code",
      "metadata": {
        "colab": {
          "base_uri": "https://localhost:8080/",
          "height": 473
        },
        "id": "ZNwnbj8k1vLt",
        "outputId": "72a3ad82-4472-4aa3-f36f-b48f6c6701c7"
      },
      "source": [
        "dtcPred = dtc.predict(X_test)\n",
        "dtc_cf = confusion_matrix(Y_test, dtcPred)\n",
        "sns.heatmap(dtc_cf, annot=True, fmt=\"d\", cmap=\"Blues_r\")\n",
        "plt.title(\"Confusion Matrix for Decision Tree Classifier\")"
      ],
      "execution_count": 136,
      "outputs": [
        {
          "output_type": "execute_result",
          "data": {
            "text/plain": [
              "Text(0.5, 1.0, 'Confusion Matrix for Decision Tree Classifier')"
            ]
          },
          "metadata": {},
          "execution_count": 136
        },
        {
          "output_type": "display_data",
          "data": {
            "image/png": "[encoded data removed]",
            "text/plain": [
              "<Figure size 640x480 with 2 Axes>"
            ]
          },
          "metadata": {}
        }
      ]
    },
    {
      "cell_type": "code",
      "metadata": {
        "colab": {
          "base_uri": "https://localhost:8080/"
        },
        "id": "pp6K0gID2DPU",
        "outputId": "2266faab-4f8b-4653-b035-cc14bdc1ec11"
      },
      "source": [
        "print(metrics.classification_report(Y_test, dtcPred))"
      ],
      "execution_count": 138,
      "outputs": [
        {
          "output_type": "stream",
          "name": "stdout",
          "text": [
            "              precision    recall  f1-score   support\n",
            "\n",
            "         0.0       0.91      0.95      0.93       108\n",
            "         1.0       0.50      0.33      0.40        15\n",
            "\n",
            "    accuracy                           0.88       123\n",
            "   macro avg       0.71      0.64      0.67       123\n",
            "weighted avg       0.86      0.88      0.87       123\n",
            "\n"
          ]
        }
      ]
    },
    {
      "cell_type": "markdown",
      "metadata": {
        "id": "gePNqB-g2PQ-"
      },
      "source": [
        "Gradient Boosting Classifier"
      ]
    },
    {
      "cell_type": "code",
      "metadata": {
        "colab": {
          "base_uri": "https://localhost:8080/"
        },
        "id": "K-EBKJVH2R64",
        "outputId": "0187c535-d545-4ca5-ca2f-235acb187bd1"
      },
      "source": [
        "from sklearn.ensemble import GradientBoostingClassifier\n",
        "gbc = GradientBoostingClassifier()\n",
        "gbc.fit(X_train, Y_train)\n",
        "gbcScore = gbc.score(X_test,Y_test)\n",
        "print(\"Accuracy obtained by Gradient Boosting Classifier model:\",gbcScore)"
      ],
      "execution_count": 149,
      "outputs": [
        {
          "output_type": "stream",
          "name": "stdout",
          "text": [
            "Accuracy obtained by Gradient Boosting Classifier model: 0.926829268292683\n"
          ]
        }
      ]
    },
    {
      "cell_type": "markdown",
      "metadata": {
        "id": "R8UsJOZa3TVN"
      },
      "source": [
        "Confusion Matrix for Gradient Boosting Classifier"
      ]
    },
    {
      "cell_type": "code",
      "metadata": {
        "colab": {
          "base_uri": "https://localhost:8080/",
          "height": 473
        },
        "id": "syUnK8Ta3Ujx",
        "outputId": "2f5a30a4-215f-443d-d06a-716caad87f80"
      },
      "source": [
        "gbcPred = gbc.predict(X_test)\n",
        "gbc_cf = confusion_matrix(Y_test, gbcPred)\n",
        "sns.heatmap(gbc_cf, annot=True,fmt=\"d\",cmap='Blues_r')\n",
        "plt.title(\"Confusion Matrix for Gradient Boosting Classifier\")"
      ],
      "execution_count": 150,
      "outputs": [
        {
          "output_type": "execute_result",
          "data": {
            "text/plain": [
              "Text(0.5, 1.0, 'Confusion Matrix for Gradient Boosting Classifier')"
            ]
          },
          "metadata": {},
          "execution_count": 150
        },
        {
          "output_type": "display_data",
          "data": {
            "image/png": "[encoded data removed]",
            "text/plain": [
              "<Figure size 640x480 with 2 Axes>"
            ]
          },
          "metadata": {}
        }
      ]
    },
    {
      "cell_type": "code",
      "metadata": {
        "colab": {
          "base_uri": "https://localhost:8080/"
        },
        "id": "d4Mz0uCE3wCB",
        "outputId": "72f4799a-8f1f-432f-bcd5-9c9551e4f7d3"
      },
      "source": [
        "print(metrics.classification_report(Y_test, gbcPred))"
      ],
      "execution_count": 151,
      "outputs": [
        {
          "output_type": "stream",
          "name": "stdout",
          "text": [
            "              precision    recall  f1-score   support\n",
            "\n",
            "         0.0       0.94      0.98      0.96       108\n",
            "         1.0       0.80      0.53      0.64        15\n",
            "\n",
            "    accuracy                           0.93       123\n",
            "   macro avg       0.87      0.76      0.80       123\n",
            "weighted avg       0.92      0.93      0.92       123\n",
            "\n"
          ]
        }
      ]
    },
    {
      "cell_type": "code",
      "metadata": {
        "colab": {
          "base_uri": "https://localhost:8080/",
          "height": 419
        },
        "id": "tDRFHTXG32KL",
        "outputId": "cefa0e5f-0400-4ca3-d25b-90907057c32c"
      },
      "source": [
        "plt.style.use(\"seaborn\")\n",
        "x= [\"LogisticRegression\",\"Decision Tree Classifier\",\"Random Forest Classifier\",\"K Neighbors Classifier\",\"Gradient Boosting Classifier\"]\n",
        "y= [LrScore, rfScore, rfScore, knnScore, gbcScore]\n",
        "plt.subplots(figsize=(15,5))\n",
        "sns.barplot(x=x, y=y)\n",
        "plt.ylabel(\"Model Accuracy\")\n",
        "plt.xlabel(\"Models\")\n",
        "plt.title(\"Model Comparison\")"
      ],
      "execution_count": 154,
      "outputs": [
        {
          "output_type": "execute_result",
          "data": {
            "text/plain": [
              "Text(0.5, 1.0, 'Model Comparison')"
            ]
          },
          "metadata": {},
          "execution_count": 154
        },
        {
          "output_type": "display_data",
          "data": {
            "image/png": "[encoded data removed]",
            "text/plain": [
              "<Figure size 1200x400 with 1 Axes>"
            ]
          },
          "metadata": {}
        }
      ]
    },
    {
      "cell_type": "code",
      "metadata": {
        "id": "uN15kocL4ZrL"
      },
      "source": [
        "from sklearn.model_selection import GridSearchCV\n",
        "param_grid = {\n",
        "    'max_depth': [80, 90, 100, 110],\n",
        "    'max_features': [2, 3],\n",
        "    'min_samples_leaf': [2, 4, 6],\n",
        "    'min_samples_split': [1, 2, 3],\n",
        "    'n_estimators': [100, 200, 300, 1000]\n",
        "}\n",
        "\n",
        "grid_search_rfc = GridSearchCV(estimator = rfc, \n",
        "                           param_grid = param_grid, \n",
        "                           cv = 10, n_jobs = -1)"
      ],
      "execution_count": 169,
      "outputs": []
    },
    {
      "cell_type": "code",
      "metadata": {
        "colab": {
          "base_uri": "https://localhost:8080/"
        },
        "id": "jOwQgPBO5ji-",
        "outputId": "b1aec34c-0d2f-4ecc-dc04-1057a83cd03d"
      },
      "source": [
        "grid_search_rfc.fit(X_train, Y_train)"
      ],
      "execution_count": 170,
      "outputs": [
        {
          "output_type": "execute_result",
          "data": {
            "text/plain": [
              "GridSearchCV(cv=10, error_score=nan,\n",
              "             estimator=RandomForestClassifier(bootstrap=True, ccp_alpha=0.0,\n",
              "                                              class_weight=None,\n",
              "                                              criterion='gini', max_depth=None,\n",
              "                                              max_features='auto',\n",
              "                                              max_leaf_nodes=None,\n",
              "                                              max_samples=None,\n",
              "                                              min_impurity_decrease=0.0,\n",
              "                                              min_impurity_split=None,\n",
              "                                              min_samples_leaf=1,\n",
              "                                              min_samples_split=2,\n",
              "                                              min_weight_fraction_leaf=0.0,\n",
              "                                              n_estimators=100, n_jobs=None,\n",
              "                                              oob_score=False,\n",
              "                                              random_state=None, verbose=0,\n",
              "                                              warm_start=False),\n",
              "             iid='deprecated', n_jobs=-1,\n",
              "             param_grid={'max_depth': [80, 90, 100, 110],\n",
              "                         'max_features': [2, 3], 'min_samples_leaf': [2, 4, 6],\n",
              "                         'min_samples_split': [1, 2, 3],\n",
              "                         'n_estimators': [100, 200, 300, 1000]},\n",
              "             pre_dispatch='2*n_jobs', refit=True, return_train_score=False,\n",
              "             scoring=None, verbose=0)"
            ]
          },
          "metadata": {},
          "execution_count": 170
        }
      ]
    },
    {
      "cell_type": "code",
      "metadata": {
        "colab": {
          "base_uri": "https://localhost:8080/"
        },
        "id": "T9jENtH750g5",
        "outputId": "50f5f201-29ea-438e-ec3a-1ab8cb4fc7ee"
      },
      "source": [
        "grid_search_rfc.best_params_"
      ],
      "execution_count": 171,
      "outputs": [
        {
          "output_type": "execute_result",
          "data": {
            "text/plain": [
              "{'max_depth': 110,\n",
              " 'max_features': 3,\n",
              " 'min_samples_leaf': 2,\n",
              " 'min_samples_split': 2,\n",
              " 'n_estimators': 100}"
            ]
          },
          "metadata": {},
          "execution_count": 171
        }
      ]
    },
    {
      "cell_type": "code",
      "metadata": {
        "colab": {
          "base_uri": "https://localhost:8080/"
        },
        "id": "HFYEbDrA51Wv",
        "outputId": "6ec9da8c-c392-4720-de4e-8063a7dfb09a"
      },
      "source": [
        "grid_search_rfc.best_score_"
      ],
      "execution_count": 172,
      "outputs": [
        {
          "output_type": "execute_result",
          "data": {
            "text/plain": [
              "0.9715918367346938"
            ]
          },
          "metadata": {},
          "execution_count": 172
        }
      ]
    },
    {
      "cell_type": "code",
      "metadata": {
        "id": "Q-NuA4bR55fQ"
      },
      "source": [
        "grid_search_rfc_predict = grid_search_rfc.predict(X_test)"
      ],
      "execution_count": 173,
      "outputs": []
    },
    {
      "cell_type": "code",
      "metadata": {
        "colab": {
          "base_uri": "https://localhost:8080/"
        },
        "id": "mMjTK7Z_56I6",
        "outputId": "e1b1edd9-c574-441f-e9fd-d89b62bd5a94"
      },
      "source": [
        "print(classification_report(Y_test, grid_search_rfc_predict))"
      ],
      "execution_count": 174,
      "outputs": [
        {
          "output_type": "stream",
          "name": "stdout",
          "text": [
            "              precision    recall  f1-score   support\n",
            "\n",
            "         0.0       0.95      0.99      0.97       108\n",
            "         1.0       0.90      0.60      0.72        15\n",
            "\n",
            "    accuracy                           0.94       123\n",
            "   macro avg       0.92      0.80      0.84       123\n",
            "weighted avg       0.94      0.94      0.94       123\n",
            "\n"
          ]
        }
      ]
    },
    {
      "cell_type": "code",
      "metadata": {
        "id": "niOjKdNc8KfX"
      },
      "source": [
        ""
      ],
      "execution_count": null,
      "outputs": []
    }
  ]
}